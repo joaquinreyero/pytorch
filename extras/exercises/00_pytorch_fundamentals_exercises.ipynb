{
  "nbformat": 4,
  "nbformat_minor": 0,
  "metadata": {
    "colab": {
      "name": "00_pytorch_fundamentals_exercises.ipynb",
      "provenance": [],
      "gpuType": "T4"
    },
    "kernelspec": {
      "name": "python3",
      "display_name": "Python 3"
    },
    "language_info": {
      "name": "python"
    },
    "accelerator": "GPU"
  },
  "cells": [
    {
      "cell_type": "markdown",
      "source": [
        "# 00. PyTorch Fundamentals Exercises\n",
        "\n",
        "### 1. Documentation reading\n",
        "\n",
        "A big part of deep learning (and learning to code in general) is getting familiar with the documentation of a certain framework you're using. We'll be using the PyTorch documentation a lot throughout the rest of this course. So I'd recommend spending 10-minutes reading the following (it's okay if you don't get some things for now, the focus is not yet full understanding, it's awareness):\n",
        "  * The documentation on [`torch.Tensor`](https://pytorch.org/docs/stable/tensors.html#torch-tensor).\n",
        "  * The documentation on [`torch.cuda`](https://pytorch.org/docs/master/notes/cuda.html#cuda-semantics).\n",
        "\n"
      ],
      "metadata": {
        "id": "AzDBM_v4iMe7"
      }
    },
    {
      "cell_type": "code",
      "source": [
        "# No code solution (reading)"
      ],
      "metadata": {
        "id": "bGD0oD8Kizak"
      },
      "execution_count": null,
      "outputs": []
    },
    {
      "cell_type": "markdown",
      "source": [
        "### 2. Create a random tensor with shape `(7, 7)`.\n"
      ],
      "metadata": {
        "id": "__iXqqz-ioUJ"
      }
    },
    {
      "cell_type": "code",
      "source": [
        "# Import torch\n",
        "import torch\n",
        "\n",
        "# Create random tensor\n",
        "\n",
        "x = torch.rand(6,3,2,7)\n",
        "y = torch.rand(1,4)\n",
        "z = torch.rand(7)\n",
        "\n",
        "print(x.ndim) #4\n",
        "print(x.shape) #[6,3,2,7]\n",
        "\n",
        "print(y.ndim) #2\n",
        "print(y.shape) #[1,4]\n",
        "\n",
        "print(z.ndim) #1\n",
        "print(z.shape) #[7]\n",
        "\n",
        "result = torch.rand(7,7)\n",
        "print(\"\\n\\n ndim = \",result.ndim)\n",
        "print(\"\\n shape = \",result.shape)\n",
        "print(\"\\n\",result)"
      ],
      "metadata": {
        "id": "6pUq9Dc8i2L7",
        "colab": {
          "base_uri": "https://localhost:8080/"
        },
        "outputId": "06096a1d-c363-4090-c90e-3b52c2eb3f72"
      },
      "execution_count": 11,
      "outputs": [
        {
          "output_type": "stream",
          "name": "stdout",
          "text": [
            "4\n",
            "torch.Size([6, 3, 2, 7])\n",
            "2\n",
            "torch.Size([1, 4])\n",
            "1\n",
            "torch.Size([7])\n",
            "\n",
            "\n",
            " ndim =  2\n",
            "\n",
            " shape =  torch.Size([7, 7])\n",
            "\n",
            " tensor([[0.7703, 0.9005, 0.1535, 0.3973, 0.7849, 0.0215, 0.7118],\n",
            "        [0.7185, 0.7328, 0.8738, 0.0102, 0.0836, 0.7872, 0.0241],\n",
            "        [0.8483, 0.3214, 0.8221, 0.2403, 0.8495, 0.6363, 0.2257],\n",
            "        [0.5265, 0.4800, 0.3431, 0.4461, 0.5801, 0.1569, 0.0904],\n",
            "        [0.6303, 0.4540, 0.6564, 0.7810, 0.1648, 0.8152, 0.8832],\n",
            "        [0.5259, 0.2605, 0.4367, 0.1172, 0.2080, 0.7889, 0.6016],\n",
            "        [0.5524, 0.3167, 0.5258, 0.3203, 0.4409, 0.3668, 0.1535]])\n"
          ]
        }
      ]
    },
    {
      "cell_type": "markdown",
      "source": [
        "### 3. Perform a matrix multiplication on the tensor from 2 with another random tensor with shape `(1, 7)` (hint: you may have to transpose the second tensor)."
      ],
      "metadata": {
        "id": "9-XxvRLfiqkR"
      }
    },
    {
      "cell_type": "code",
      "source": [
        "import torch\n",
        "\n",
        "# Create another random tensor\n",
        "\n",
        "A = torch.rand(3,7)\n",
        "B = torch.rand(7,2)\n",
        "\n",
        "print(A)\n",
        "print(B)\n",
        "\n",
        "# Perform matrix multiplication\n",
        "\n",
        "# If input is a (n×m)(n×m) tensor, mat2 is a (m×p)(m×p) tensor, out will be a\n",
        "# (n×p)(n×p) tensor.\n",
        "\n",
        "Result = torch.C(A,B)\n",
        "print(\"\\n Dim = \",Result.ndim)\n",
        "print(\"\\n Shape = \", Result.shape)\n",
        "print(\"\\n AxB \",Result)\n"
      ],
      "metadata": {
        "id": "NcLqR0Sbi_vT",
        "colab": {
          "base_uri": "https://localhost:8080/"
        },
        "outputId": "f8f6df74-976b-4618-a79e-1ca8310ae847"
      },
      "execution_count": 33,
      "outputs": [
        {
          "output_type": "stream",
          "name": "stdout",
          "text": [
            "tensor([[0.1386, 0.2320, 0.7446, 0.5740, 0.5532, 0.2136, 0.3193],\n",
            "        [0.5515, 0.9499, 0.7129, 0.6622, 0.6698, 0.4485, 0.1276],\n",
            "        [0.9725, 0.0879, 0.2253, 0.3633, 0.4844, 0.8701, 0.9903]])\n",
            "tensor([[0.2268, 0.3679],\n",
            "        [0.5685, 0.8319],\n",
            "        [0.7138, 0.1511],\n",
            "        [0.9282, 0.4295],\n",
            "        [0.1328, 0.8366],\n",
            "        [0.8623, 0.2336],\n",
            "        [0.5627, 0.5923]])\n",
            "\n",
            " Dim =  2\n",
            "\n",
            " Shape =  torch.Size([3, 2])\n",
            "\n",
            " AxB  tensor([[1.6649, 1.3048],\n",
            "        [2.3362, 2.1259],\n",
            "        [2.1405, 1.8160]])\n"
          ]
        }
      ]
    },
    {
      "cell_type": "markdown",
      "source": [
        "### 4. Set the random seed to `0` and do 2 & 3 over again.\n",
        "\n",
        "The output should be:\n",
        "```\n",
        "(tensor([[1.8542],\n",
        "         [1.9611],\n",
        "         [2.2884],\n",
        "         [3.0481],\n",
        "         [1.7067],\n",
        "         [2.5290],\n",
        "         [1.7989]]), torch.Size([7, 1]))\n",
        "```"
      ],
      "metadata": {
        "id": "eiutdKUFiryU"
      }
    },
    {
      "cell_type": "markdown",
      "source": [
        "La semilla manual en el contexto de generación de números aleatorios se refiere al valor inicial que se utiliza para inicializar el generador de números aleatorios. Cuando estableces una semilla manualmente utilizando torch.manual_seed(0) en PyTorch (o su equivalente en otras bibliotecas), estás fijando el generador de números aleatorios en un estado específico.\n",
        "\n",
        "Esto es útil cuando se desea reproducibilidad en experimentos o cálculos que involucran elementos aleatorios. Al fijar la semilla, aseguras que el generador de números aleatorios produzca la misma secuencia de números aleatorios en cada ejecución del código. Esto es especialmente importante en el aprendizaje automático, donde a menudo se realizan experimentos y se ajustan modelos, y se desea que los resultados sean reproducibles.\n",
        "\n"
      ],
      "metadata": {
        "id": "ordUruHd0DoP"
      }
    },
    {
      "cell_type": "code",
      "source": [
        "import torch\n",
        "\n",
        "# Set the random seed\n",
        "torch.manual_seed(0)\n",
        "\n",
        "# Generate random matrices A and B\n",
        "A = torch.randn((7, 5))\n",
        "B = torch.randn((5, 1))\n",
        "\n",
        "# Perform matrix multiplication\n",
        "C = torch.matmul(A, B)\n",
        "\n",
        "print(C, C.size())\n"
      ],
      "metadata": {
        "id": "D-lOWI_1jRMm",
        "colab": {
          "base_uri": "https://localhost:8080/"
        },
        "outputId": "a434c37f-611a-4b34-b0fb-380646824ea2"
      },
      "execution_count": 43,
      "outputs": [
        {
          "output_type": "stream",
          "name": "stdout",
          "text": [
            "tensor([[-0.3287],\n",
            "        [ 0.6325],\n",
            "        [ 1.0654],\n",
            "        [ 0.7772],\n",
            "        [ 1.2944],\n",
            "        [ 0.4913],\n",
            "        [ 0.9247]]) torch.Size([7, 1])\n"
          ]
        }
      ]
    },
    {
      "cell_type": "markdown",
      "source": [
        "### 5. Speaking of random seeds, we saw how to set it with `torch.manual_seed()` but is there a GPU equivalent? (hint: you'll need to look into the documentation for `torch.cuda` for this one)\n",
        "  * If there is, set the GPU random seed to `1234`."
      ],
      "metadata": {
        "id": "ezY6ks9Cis37"
      }
    },
    {
      "cell_type": "code",
      "source": [
        "# Set random seed on the GPU\n",
        "import torch\n",
        "\n",
        "'''\n",
        "  Sets the seed for generating random numbers for the current GPU. It’s safe to\n",
        "  call this function if CUDA is not available; in that case, it is silently\n",
        "  ignored.\n",
        "'''\n",
        "\n",
        "if torch.cuda.is_available():\n",
        "  print(\"Cuda availible\")\n",
        "  torch.cuda.manual_seed(1234)\n",
        "\n",
        "torch.manual_seed(1234)\n",
        "\n",
        "A = torch.randn((7, 5))\n",
        "\n",
        "print(A)"
      ],
      "metadata": {
        "id": "_LKWcfSTjp00",
        "colab": {
          "base_uri": "https://localhost:8080/"
        },
        "outputId": "1bad967c-3741-4b3e-9a08-ff1d8ac30cba"
      },
      "execution_count": 60,
      "outputs": [
        {
          "output_type": "stream",
          "name": "stdout",
          "text": [
            "tensor([[-0.1117, -0.4966,  0.1631, -0.8817,  0.0539],\n",
            "        [ 0.6684, -0.0597, -0.4675, -0.2153,  0.8840],\n",
            "        [-0.7584, -0.3689, -0.3424, -1.4020,  0.3206],\n",
            "        [-1.0219,  0.7988, -0.0923, -0.7049, -0.9340],\n",
            "        [-0.5675, -0.2772, -2.1834,  0.3668,  0.7667],\n",
            "        [ 0.0190,  0.0220, -1.1567,  1.8409, -1.0174],\n",
            "        [ 1.2192,  0.1601, -0.6857, -0.0496, -1.2485]])\n"
          ]
        }
      ]
    },
    {
      "cell_type": "markdown",
      "source": [
        "\n",
        "### 6. Create two random tensors of shape `(2, 3)` and send them both to the GPU (you'll need access to a GPU for this). Set `torch.manual_seed(1234)` when creating the tensors (this doesn't have to be the GPU random seed). The output should be something like:\n",
        "\n",
        "```\n",
        "Device: cuda\n",
        "(tensor([[0.0290, 0.4019, 0.2598],\n",
        "         [0.3666, 0.0583, 0.7006]], device='cuda:0'),\n",
        " tensor([[0.0518, 0.4681, 0.6738],\n",
        "         [0.3315, 0.7837, 0.5631]], device='cuda:0'))\n",
        "```"
      ],
      "metadata": {
        "id": "Ir9qSaj6it4n"
      }
    },
    {
      "cell_type": "code",
      "source": [
        "import torch\n",
        "\n",
        "# Set random seed\n",
        "\n",
        "torch.manual_seed(1234)\n",
        "\n",
        "# Check for access to GPU\n",
        "\n",
        "if torch.cuda.is_available():\n",
        "  device = torch.device('cuda:0')\n",
        "\n",
        "# Create two random tensors on GPU\n",
        "\n",
        "  A = torch.randn(2,3).to(device)\n",
        "  B = torch.randn(2,3).to(device)\n",
        "  print(A)\n",
        "  print(B)"
      ],
      "metadata": {
        "id": "azXExiFZj5nm",
        "colab": {
          "base_uri": "https://localhost:8080/"
        },
        "outputId": "dde31641-3e26-4c21-adf7-09fc2f2a8cae"
      },
      "execution_count": 15,
      "outputs": [
        {
          "output_type": "stream",
          "name": "stdout",
          "text": [
            "tensor([[ 0.0461,  0.4024, -1.0115],\n",
            "        [ 0.2167, -0.6123,  0.5036]], device='cuda:0')\n",
            "tensor([[ 0.2310,  0.6931, -0.2669],\n",
            "        [ 2.1785,  0.1021, -0.2590]], device='cuda:0')\n"
          ]
        }
      ]
    },
    {
      "cell_type": "markdown",
      "source": [
        "\n",
        "### 7. Perform a matrix multiplication on the tensors you created in 6 (again, you may have to adjust the shapes of one of the tensors).\n",
        "\n",
        "The output should look like:\n",
        "```\n",
        "(tensor([[0.3647, 0.4709],\n",
        "         [0.5184, 0.5617]], device='cuda:0'), torch.Size([2, 2]))\n",
        "```"
      ],
      "metadata": {
        "id": "5TlAxeiSiu1y"
      }
    },
    {
      "cell_type": "code",
      "source": [
        "# Perform matmul on tensor_A and tensor_B\n",
        "\n",
        "print(A)\n",
        "\n",
        "#print(B)\n",
        "B_reshaped = B.reshape(3,2)\n",
        "print(B_reshaped)\n",
        "\n",
        "result = torch.matmul(A,B_reshaped)\n",
        "\n",
        "print(\"\\n Result\",result)\n"
      ],
      "metadata": {
        "id": "fAeG7ox0lHEO",
        "colab": {
          "base_uri": "https://localhost:8080/"
        },
        "outputId": "7738956e-bdeb-4473-b1cd-9e70fe5deb0e"
      },
      "execution_count": 22,
      "outputs": [
        {
          "output_type": "stream",
          "name": "stdout",
          "text": [
            "tensor([[ 0.0461,  0.4024, -1.0115],\n",
            "        [ 0.2167, -0.6123,  0.5036]], device='cuda:0')\n",
            "tensor([[ 0.2310,  0.6931],\n",
            "        [-0.2669,  2.1785],\n",
            "        [ 0.1021, -0.2590]], device='cuda:0')\n",
            "\n",
            " Result tensor([[-0.2000,  1.1706],\n",
            "        [ 0.2649, -1.3140]], device='cuda:0')\n"
          ]
        }
      ]
    },
    {
      "cell_type": "markdown",
      "source": [
        "### 8. Find the maximum and minimum values of the output of 7."
      ],
      "metadata": {
        "id": "G7qfa5CSivwg"
      }
    },
    {
      "cell_type": "code",
      "source": [
        "# Find max\n",
        "print(result.max())\n",
        "\n",
        "# Find min\n",
        "print(result.min())"
      ],
      "metadata": {
        "id": "Fu8_3mZpllOd",
        "colab": {
          "base_uri": "https://localhost:8080/"
        },
        "outputId": "baf464f4-6e4f-4ce2-91c5-9645b4391f06"
      },
      "execution_count": 24,
      "outputs": [
        {
          "output_type": "stream",
          "name": "stdout",
          "text": [
            "tensor(1.1706, device='cuda:0')\n",
            "tensor(-1.3140, device='cuda:0')\n"
          ]
        }
      ]
    },
    {
      "cell_type": "markdown",
      "source": [
        "### 9. Find the maximum and minimum index values of the output of 7."
      ],
      "metadata": {
        "id": "wrTj5FgNiw47"
      }
    },
    {
      "cell_type": "code",
      "source": [
        "# Find arg max\n",
        "print(result.argmax())\n",
        "\n",
        "# Find arg min\n",
        "print(result.argmin())\n"
      ],
      "metadata": {
        "id": "CCEKt4K2lsfQ",
        "colab": {
          "base_uri": "https://localhost:8080/"
        },
        "outputId": "72e91ff9-aeae-4fb7-b44c-1fbbc7ccdf1e"
      },
      "execution_count": 25,
      "outputs": [
        {
          "output_type": "stream",
          "name": "stdout",
          "text": [
            "tensor(1, device='cuda:0')\n",
            "tensor(3, device='cuda:0')\n"
          ]
        }
      ]
    },
    {
      "cell_type": "markdown",
      "source": [
        "\n",
        "### 10. Make a random tensor with shape `(1, 1, 1, 10)` and then create a new tensor with all the `1` dimensions removed to be left with a tensor of shape `(10)`. Set the seed to `7` when you create it and print out the first tensor and it's shape as well as the second tensor and it's shape.\n",
        "\n",
        "The output should look like:\n",
        "\n",
        "```\n",
        "tensor([[[[0.5349, 0.1988, 0.6592, 0.6569, 0.2328, 0.4251, 0.2071, 0.6297,\n",
        "           0.3653, 0.8513]]]]) torch.Size([1, 1, 1, 10])\n",
        "tensor([0.5349, 0.1988, 0.6592, 0.6569, 0.2328, 0.4251, 0.2071, 0.6297, 0.3653,\n",
        "        0.8513]) torch.Size([10])\n",
        "```"
      ],
      "metadata": {
        "id": "hmeybz4uixy7"
      }
    },
    {
      "cell_type": "code",
      "source": [
        "import torch\n",
        "\n",
        "# Set seed\n",
        "torch.manual_seed(7)\n",
        "\n",
        "# Create random tensor\n",
        "A = torch.randn(1,1,1,10)\n",
        "\n",
        "# Remove single dimensions\n",
        "B = torch.randn(10)\n",
        "\n",
        "\n",
        "# Print out tensors and their shapes\n",
        "\n",
        "print(A,A.shape,A.ndim)\n",
        "print(B,B.shape,B.ndim)"
      ],
      "metadata": {
        "id": "TQ9zbRzVl1jV",
        "colab": {
          "base_uri": "https://localhost:8080/"
        },
        "outputId": "fd8621a8-243a-4bc1-db6e-884e062431e4"
      },
      "execution_count": 26,
      "outputs": [
        {
          "output_type": "stream",
          "name": "stdout",
          "text": [
            "tensor([[[[-0.1468,  0.7861,  0.9468, -1.1143,  1.6908, -0.8948, -0.3556,\n",
            "            1.2324,  0.1382, -1.6822]]]]) torch.Size([1, 1, 1, 10]) 4\n",
            "tensor([0.3177, 0.1328, 0.1373, 0.2405, 1.3955, 1.3470, 2.4382, 0.2028, 2.4505,\n",
            "        2.0256]) torch.Size([10]) 1\n"
          ]
        }
      ]
    }
  ]
}